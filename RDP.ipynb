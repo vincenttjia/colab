! apt update
! apt-get install xrdp
! apt-get install xfce4
! sed -i.bak '/fi/a #xrdp multiple users configuration \n xfce-session \n' /etc/xrdp/startwm.sh
! adduser xrdp ssl-cert
! service xrdp restart

get_ipython().system_raw('./ngrok authtoken EDITWITHNGROKAUTH && ./ngrok tcp 3389 &')

#Get public address and print connect command
with urllib.request.urlopen('http://localhost:4040/api/tunnels') as response:
  data = json.loads(response.read().decode())
  (host, port) = data['tunnels'][0]['public_url'][6:].split(':')
  print(f'RDP Server {host}:{port}')
